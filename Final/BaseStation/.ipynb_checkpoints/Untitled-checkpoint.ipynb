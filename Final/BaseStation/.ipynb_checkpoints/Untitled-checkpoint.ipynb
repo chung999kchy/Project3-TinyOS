{
 "cells": [
  {
   "cell_type": "code",
   "execution_count": 1,
   "metadata": {
    "scrolled": false
   },
   "outputs": [],
   "source": [
    "import numpy as np"
   ]
  },
  {
   "cell_type": "code",
   "execution_count": 2,
   "metadata": {
    "scrolled": false
   },
   "outputs": [],
   "source": [
    "import pandas as pd\n",
    "pd.set_option('display.max_rows', 500)\n",
    "pd.set_option('display.max_columns', 500)"
   ]
  },
  {
   "cell_type": "code",
   "execution_count": 3,
   "metadata": {
    "scrolled": false
   },
   "outputs": [],
   "source": [
    "def tempTo(a):\n",
    "    b = float(-39.6 + 0.01*a)\n",
    "    return round(b, 2)"
   ]
  },
  {
   "cell_type": "code",
   "execution_count": 4,
   "metadata": {
    "scrolled": false
   },
   "outputs": [],
   "source": [
    "def humiTo(a):\n",
    "    b = float(-2.0468 + 0.0367*a-1.5955*(10**(-6))*(a**2))\n",
    "    return round(b, 2)"
   ]
  },
  {
   "cell_type": "code",
   "execution_count": 9,
   "metadata": {
    "scrolled": true
   },
   "outputs": [
    {
     "name": "stdout",
     "output_type": "stream",
     "text": [
      "   type_packet destination_address source_address len_payload id_group  \\\n",
      "0            0                   0              0           0        0   \n",
      "1           00                0080           0001          18       22   \n",
      "2           00                0080           0001          18       22   \n",
      "3           00                0080           0001          18       22   \n",
      "4           00                0080           0001          18       22   \n",
      "5           00                0080           0001          18       22   \n",
      "6           00                0080           0001          18       22   \n",
      "7           00                0080           0001          18       22   \n",
      "8           00                0080           0001          18       22   \n",
      "9           00                0080           0001          18       22   \n",
      "10          00                0080           0001          18       22   \n",
      "11          00                0080           0001          18       22   \n",
      "12          00                0080           0001          18       22   \n",
      "13          00                0080           0001          18       22   \n",
      "14          00                0080           0001          18       22   \n",
      "15          00                0080           0001          18       22   \n",
      "16          00                0080           0001          18       22   \n",
      "17          00                0080           0001          18       22   \n",
      "18          00                0080           0001          18       22   \n",
      "19          00                0080           0001          18       22   \n",
      "20          00                0080           0001          18       22   \n",
      "21          00                0080           0001          18       22   \n",
      "22          00                0080           0001          18       22   \n",
      "23          00                0080           0001          18       22   \n",
      "24          00                0080           0001          18       22   \n",
      "25          00                0080           0001          18       22   \n",
      "\n",
      "   note_id1  temp1  humi1 note_id2  temp2  humi2 note_id3  temp3  humi3  \\\n",
      "0         0   0.00   0.00        0   0.00   0.00        0   0.00   0.00   \n",
      "1      4444  25.74  37.29     1111  26.30  35.83     4444  25.75  40.19   \n",
      "2      4444  25.74  37.29     1111  26.24  36.56     4444  25.75  40.19   \n",
      "3      4444  25.70  38.18     1111  26.18  36.06     4444  25.70  38.05   \n",
      "4      4444  25.70  38.18     1111  26.16  35.69     4444  25.70  38.05   \n",
      "5      4444  25.70  38.18     1111  26.13  35.13     4444  25.70  38.05   \n",
      "6      4444  25.68  37.85     1111  26.11  36.03     4444  25.67  38.11   \n",
      "7      4444  25.68  37.85     1111  26.10  36.09     4444  25.67  38.11   \n",
      "8      4444  25.68  37.85     1111  26.06  35.66     4444  25.67  38.11   \n",
      "9      4444  25.64  37.25     1111  26.04  35.33     4444  25.64  36.99   \n",
      "10     4444  25.64  37.25     1111  26.04  35.43     4444  25.64  36.99   \n",
      "11     4444  25.64  37.25     1111  26.03  36.13     4444  25.64  36.99   \n",
      "12     4444  25.89  57.23     1111  26.02  37.19     4444  25.79  47.69   \n",
      "13     4444  25.89  57.23     1111  25.99  35.93     4444  25.79  47.69   \n",
      "14     4444  25.89  57.23     1111  25.98  35.50     4444  25.79  47.69   \n",
      "15     4444  25.62  37.12     1111  25.96  35.36     4444  25.61  37.09   \n",
      "16     4444  25.62  37.12     1111  25.95  35.73     4444  25.61  37.09   \n",
      "17     4444  25.62  37.12     0FA1  26.39  37.25     4444  25.61  37.09   \n",
      "18     1111  25.94  35.46     1111  25.94  35.46     0FA1  26.45  36.56   \n",
      "19     1111  25.93  35.36     1111  25.93  35.36     0FA1  26.45  36.56   \n",
      "20     1111  25.92  35.33     1111  25.92  35.33     0FA1  26.45  36.56   \n",
      "21     1111  25.90  36.39     1111  25.90  36.39     1111  25.90  36.39   \n",
      "22     0FA5  27.31  35.99     0FA5  27.31  35.99     0FA5  27.31  35.99   \n",
      "23     4444  25.60  38.87     4444  25.60  38.87     4444  25.60  38.87   \n",
      "24     1111  25.89  36.53     0FA6  27.57  35.20     1111  25.89  36.53   \n",
      "25     1111  25.88  35.93     0FA6  27.57  35.20     1111  25.88  35.93   \n",
      "\n",
      "   note_id4  temp4  humi4  \n",
      "0         0   0.00   0.00  \n",
      "1      1111  26.30  35.83  \n",
      "2      1111  26.24  36.56  \n",
      "3      1111  26.18  36.06  \n",
      "4      1111  26.16  35.69  \n",
      "5      1111  26.13  35.13  \n",
      "6      1111  26.11  36.03  \n",
      "7      1111  26.10  36.09  \n",
      "8      1111  26.06  35.66  \n",
      "9      1111  26.04  35.33  \n",
      "10     1111  26.04  35.43  \n",
      "11     1111  26.03  36.13  \n",
      "12     1111  26.02  37.19  \n",
      "13     1111  25.99  35.93  \n",
      "14     1111  25.98  35.50  \n",
      "15     1111  25.96  35.36  \n",
      "16     1111  25.95  35.73  \n",
      "17     0FA1  26.39  37.25  \n",
      "18     4444  25.62  37.25  \n",
      "19     4444  25.62  37.25  \n",
      "20     4444  25.62  37.25  \n",
      "21     1111  25.90  36.39  \n",
      "22     0FA5  27.31  35.99  \n",
      "23     4444  25.60  38.87  \n",
      "24     1111  25.89  36.53  \n",
      "25     1111  25.88  35.93  \n"
     ]
    }
   ],
   "source": [
    "f = open('output.txt','r')\n",
    "col_names = ['type_packet','destination','source', 'len_payload', 'id_group', 'note_id1', 'temp1' ,'humi1', 'note_id2', 'temp2' ,'humi2', 'note_id3', 'temp3', 'humi3', 'note_id4', 'temp4' ,'humi4']\n",
    "\n",
    "df = pd.DataFrame(np.zeros((1,len(col_names))), columns = col_names)\n",
    "\n",
    "while True:\n",
    "    data=f.readline()\n",
    "    data = data.split(\" \")\n",
    "    if data == ['']:\n",
    "        break\n",
    "    \n",
    "    try:\n",
    "        data.remove('\\n')\n",
    "    except:\n",
    "        break\n",
    "    type_msg = data[0]\n",
    "    destination_add = data[1]+data[2]\n",
    "    source_add = data[3]+data[4]\n",
    "    len_payload = data[5]\n",
    "    id_group = data[6]\n",
    "\n",
    "    id_note1 = data[8]+data[9]\n",
    "    temp1 = int(data[10]+data[11],16)\n",
    "    temp1 = tempTo(temp1)\n",
    "    humi1 = int(data[12]+data[13],16)\n",
    "    humi1 = humiTo(humi1)\n",
    "\n",
    "    id_note2 = data[14]+data[15]\n",
    "    temp2 = int(data[16]+data[17],16)\n",
    "    temp2 = tempTo(temp2)\n",
    "    humi2 = int(data[18]+data[19],16)\n",
    "    humi2 = humiTo(humi2)\n",
    "\n",
    "    id_note3 = data[20]+data[21]\n",
    "    temp3 = int(data[22]+data[23],16)\n",
    "    temp3 = tempTo(temp3)\n",
    "    humi3 = int(data[24]+data[25],16)\n",
    "    humi3 = humiTo(humi3)\n",
    "\n",
    "    id_note4 = data[26]+data[27]\n",
    "    temp4 = int(data[28]+data[29],16)\n",
    "    temp4 = tempTo(temp4)\n",
    "    humi4 = int(data[30]+data[31],16)\n",
    "    humi4 = humiTo(humi4)\n",
    "\n",
    "    #data1 = np.array([type_msg, destination_add, source_add, len_payload, id_group, id_note1, temp1,\n",
    "                        #humi1, id_note2, temp2, humi2, id_note3, temp3, humi3, id_note4, temp1, humi4])\n",
    "    #df1 = pd.DataFrame(data1, columns = col_names)\n",
    "    new_row = {'type_packet':type_msg, 'destination': destination_add, 'source':source_add,\n",
    "              'len_payload':len_payload, 'id_group':id_group,\n",
    "              'note_id1':id_note1, 'temp1':temp1, 'humi1':humi1,\n",
    "              'note_id2':id_note2, 'temp2':temp2, 'humi2':humi2,\n",
    "              'note_id3':id_note3, 'temp3':temp3, 'humi3':humi3,\n",
    "              'note_id4':id_note4, 'temp4':temp4, 'humi4':humi4,}\n",
    "    df = df.append(new_row, ignore_index = True)\n",
    "\n",
    "print(df)"
   ]
  },
  {
   "cell_type": "code",
   "execution_count": null,
   "metadata": {
    "scrolled": false,
    "slideshow": {
     "slide_type": "skip"
    }
   },
   "outputs": [],
   "source": []
  },
  {
   "cell_type": "code",
   "execution_count": null,
   "metadata": {
    "scrolled": false
   },
   "outputs": [],
   "source": []
  }
 ],
 "metadata": {
  "kernelspec": {
   "display_name": "Python 3",
   "language": "python",
   "name": "python3"
  },
  "language_info": {
   "codemirror_mode": {
    "name": "ipython",
    "version": 3
   },
   "file_extension": ".py",
   "mimetype": "text/x-python",
   "name": "python",
   "nbconvert_exporter": "python",
   "pygments_lexer": "ipython3",
   "version": "3.6.9"
  }
 },
 "nbformat": 4,
 "nbformat_minor": 2
}
